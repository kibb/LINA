{
 "cells": [
  {
   "cell_type": "code",
   "execution_count": 3,
   "metadata": {
    "colab": {},
    "colab_type": "code",
    "id": "jaV4mHBXVj2x"
   },
   "outputs": [],
   "source": [
    "# Import necessary libraries\n",
    "import numpy as np\n",
    "import scipy\n",
    "import tensorflow as tf\n",
    "from tensorflow import keras\n",
    "import matplotlib.pyplot as plt\n",
    "import glob\n",
    "from tqdm import tqdm\n",
    "from PIL import Image\n",
    "from skimage import io\n",
    "\n",
    "from tensorflow.keras import layers \n",
    "from tensorflow.keras.layers import Input , Conv2D , MaxPooling2D , Dropout , concatenate , UpSampling2D, MaxPooling3D, Conv3D, Reshape, Activation\n",
    "\n",
    "# Define paths for the test set and the pre-trained model\n",
    "testSetPath = 'Test Set' #Please modify the path if needed\n",
    "modelPath = 'Models' #Please modify the path if needed"
   ]
  },
  {
   "cell_type": "code",
   "execution_count": 5,
   "metadata": {},
   "outputs": [],
   "source": [
    "# Define a function to create a U-Net model\n",
    "def UNet(input_shape):\n",
    "    keras.backend.clear_session()\n",
    "    \n",
    "    # Input\n",
    "    input_layer = Input(input_shape)\n",
    "    nb_kernels = 16\n",
    "\n",
    "    # Downsampling path\n",
    "    conv1 = Conv3D(nb_kernels, (3, 3, 8), activation='relu', padding='same', kernel_initializer='he_normal')(input_layer)\n",
    "    conv1 = Conv3D(nb_kernels, (3, 3, 8), activation='relu', padding='same', kernel_initializer='he_normal')(conv1)\n",
    "    pool1 = MaxPooling3D(pool_size=(2, 2, 8))(conv1)\n",
    "    pool1_reshaped = Reshape((176, 176, nb_kernels))(pool1)\n",
    "    conv1_upsampled = Reshape((352, 352, nb_kernels * 8))(conv1)\n",
    "\n",
    "    conv2 = Conv2D(nb_kernels * 2, (3, 3), activation='relu', padding='same', kernel_initializer='he_normal')(pool1_reshaped)\n",
    "    conv2 = Conv2D(nb_kernels * 2, (3, 3), activation='relu', padding='same', kernel_initializer='he_normal')(conv2)\n",
    "    pool2 = MaxPooling2D(pool_size=(2, 2))(conv2)\n",
    "\n",
    "    conv3 = Conv2D(nb_kernels * 4, (3, 3), activation='relu', padding='same', kernel_initializer='he_normal')(pool2)\n",
    "    conv3 = Conv2D(nb_kernels * 4, (3, 3), activation='relu', padding='same', kernel_initializer='he_normal')(conv3)\n",
    "    pool3 = MaxPooling2D(pool_size=(2, 2))(conv3)\n",
    "\n",
    "    conv4 = Conv2D(nb_kernels * 8, (3, 3), activation='relu', padding='same', kernel_initializer='he_normal')(pool3)\n",
    "    conv4 = Conv2D(nb_kernels * 8, (3, 3), activation='relu', padding='same', kernel_initializer='he_normal')(conv4)\n",
    "    drop4 = Dropout(0.5)(conv4)\n",
    "    pool4 = MaxPooling2D(pool_size=(2, 2))(drop4)\n",
    "\n",
    "    # Upsampling path\n",
    "    conv5 = Conv2D(nb_kernels * 16, (3, 3), activation='relu', padding='same', kernel_initializer='he_normal')(pool4)\n",
    "    conv5 = Conv2D(nb_kernels * 16, (3, 3), activation='relu', padding='same', kernel_initializer='he_normal')(conv5)\n",
    "    drop5 = Dropout(0.5)(conv5)\n",
    "\n",
    "    up6 = Conv2D(nb_kernels * 8, (2, 2), activation='relu', padding='same', kernel_initializer='he_normal')(UpSampling2D(size=(2, 2))(drop5))\n",
    "    merge6 = concatenate([drop4, up6], axis=3)\n",
    "    conv6 = Conv2D(nb_kernels * 8, (3, 3), activation='relu', padding='same', kernel_initializer='he_normal')(merge6)\n",
    "    conv6 = Conv2D(nb_kernels * 8, (3, 3), activation='relu', padding='same', kernel_initializer='he_normal')(conv6)\n",
    "\n",
    "    up7 = Conv2D(nb_kernels * 4, (3, 3), activation='relu', padding='same', kernel_initializer='he_normal')(UpSampling2D(size=(2, 2))(conv6))\n",
    "    merge7 = concatenate([conv3, up7], axis=3)\n",
    "    conv7 = Conv2D(nb_kernels * 4, (3, 3), activation='relu', padding='same', kernel_initializer='he_normal')(merge7)\n",
    "    conv7 = Conv2D(nb_kernels * 4, (3, 3), activation='relu', padding='same', kernel_initializer='he_normal')(conv7)\n",
    "\n",
    "    up8 = Conv2D(nb_kernels * 2, (2, 2), activation='relu', padding='same', kernel_initializer='he_normal')(UpSampling2D(size=(2, 2))(conv7))\n",
    "    merge8 = concatenate([conv2, up8], axis=3)\n",
    "    conv8 = Conv2D(nb_kernels * 2, (3, 3), activation='relu', padding='same', kernel_initializer='he_normal')(merge8)\n",
    "    conv8 = Conv2D(nb_kernels * 2, (3, 3), activation='relu', padding='same', kernel_initializer='he_normal')(conv8)\n",
    "\n",
    "    up9 = Conv2D(nb_kernels, (2, 2), activation='relu', padding='same', kernel_initializer='he_normal')(UpSampling2D(size=(2, 2))(conv8))\n",
    "    merge9 = concatenate([conv1_upsampled, up9], axis=3)\n",
    "    conv9 = Conv2D(nb_kernels, (3, 3), activation='relu', padding='same', kernel_initializer='he_normal')(merge9)\n",
    "    conv9 = Conv2D(nb_kernels, (3, 3), activation='relu', padding='same', kernel_initializer='he_normal')(conv9)\n",
    "    conv9 = Conv2D(2, (3, 3), activation='relu', padding='same', kernel_initializer='he_normal')(conv9)\n",
    "    \n",
    "    # Output layer\n",
    "    outputs = Conv2D(1, 1, activation=tf.keras.activations.linear)(conv9)\n",
    "\n",
    "    # Create and compile the U-Net model\n",
    "    model = keras.Model(inputs=input_layer, outputs=outputs, name='UNet')\n",
    "\n",
    "    return model"
   ]
  },
  {
   "cell_type": "code",
   "execution_count": 4,
   "metadata": {},
   "outputs": [
    {
     "name": "stderr",
     "output_type": "stream",
     "text": [
      "100%|█████████████████████████████████████████████████████████████████████████████████| 93/93 [00:00<00:00, 535.70it/s]\n",
      "100%|█████████████████████████████████████████████████████████████████████████████████| 93/93 [00:00<00:00, 259.31it/s]\n"
     ]
    }
   ],
   "source": [
    "# Load test images for Fluorescence\n",
    "image_list = []\n",
    "listOfImages=glob.glob(testSetPath + '/Fluorescence/*.tif')\n",
    "imagesLength=len(listOfImages)\n",
    "for ii in tqdm(range(0,imagesLength)):\n",
    "    im=plt.imread(listOfImages[ii], 'tif')\n",
    "    im_max = np.max(im) #for normalization\n",
    "    im_min = np.min(im) #for normalization\n",
    "    if(im_max != 0):\n",
    "        im = (im - im_min)/(im_max - im_min)\n",
    "    image_list.append(im)\n",
    "test_labels = np.array(image_list)\n",
    "image_list = None\n",
    "\n",
    "# Load test images for Phase\n",
    "image_list = []\n",
    "listOfImages=glob.glob(testSetPath + '/Phase/*.tif')\n",
    "imagesLength=len(listOfImages)\n",
    "for ii in tqdm(range(0,imagesLength)):\n",
    "    im = io.imread(listOfImages[ii])\n",
    "    for jj in range(0,8):\n",
    "        im_max = np.max(im[jj]) #for normalization\n",
    "        im_min = np.min(im[jj]) #for normalization\n",
    "        im[jj] = (im[jj] - im_min)/(im_max - im_min)\n",
    "    image_list.append(im)\n",
    "test_images = np.array(image_list)\n",
    "test_images = np.swapaxes(test_images, 1, 2)\n",
    "test_images = np.swapaxes(test_images, 2, 3)\n",
    "image_list = None\n",
    "\n",
    "# Reshape test images\n",
    "test_images = test_images.reshape(test_images.shape[0], test_images.shape[1], test_images.shape[2], test_images.shape[3], 1)\n",
    "test_labels = test_labels.reshape(test_labels.shape[0], test_labels.shape[1], test_labels.shape[2], 1)"
   ]
  },
  {
   "cell_type": "code",
   "execution_count": 6,
   "metadata": {},
   "outputs": [],
   "source": [
    "# Load the pre-trained U-Net model\n",
    "model = keras.models.load_model(modelPath + '/PixelRegressionModel.h5')\n",
    "\n",
    "# Make predictions using the loaded model on test images\n",
    "test_predict = model.predict(test_images)"
   ]
  }
 ],
 "metadata": {
  "accelerator": "GPU",
  "colab": {
   "collapsed_sections": [
    "xsMY2VZgywF8"
   ],
   "name": "Copy of ATS_Classification.ipynb",
   "private_outputs": true,
   "provenance": [],
   "toc_visible": true
  },
  "kernelspec": {
   "display_name": "Python 3 (ipykernel)",
   "language": "python",
   "name": "python3"
  },
  "language_info": {
   "codemirror_mode": {
    "name": "ipython",
    "version": 3
   },
   "file_extension": ".py",
   "mimetype": "text/x-python",
   "name": "python",
   "nbconvert_exporter": "python",
   "pygments_lexer": "ipython3",
   "version": "3.7.11"
  }
 },
 "nbformat": 4,
 "nbformat_minor": 1
}
